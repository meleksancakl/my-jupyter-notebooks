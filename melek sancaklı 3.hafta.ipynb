{
 "cells": [
  {
   "cell_type": "code",
   "execution_count": 1,
   "id": "298e0fae-46f4-44d2-94c7-25d7ce34c0b8",
   "metadata": {},
   "outputs": [
    {
     "name": "stdout",
     "output_type": "stream",
     "text": [
      "Benzersiz: [100, 92, 85, 76]\n",
      "En yüksek: 100\n",
      "En düşük : 76\n",
      "Sıralı   : [76, 76, 85, 85, 92, 92, 92, 100]\n"
     ]
    }
   ],
   "source": [
    "notlar = [85, 92, 76, 92, 100, 76, 85, 92]\n",
    "benzersiz = list(set(notlar))\n",
    "\n",
    "en_yuksek = max(notlar)\n",
    "en_dusuk = min(notlar)\n",
    "\n",
    "sirali = sorted(notlar)\n",
    "\n",
    "print(\"Benzersiz:\", benzersiz)\n",
    "print(\"En yüksek:\", en_yuksek)\n",
    "print(\"En düşük :\", en_dusuk)\n",
    "print(\"Sıralı   :\", sirali)"
   ]
  },
  {
   "cell_type": "code",
   "execution_count": 3,
   "id": "134401a3-644f-4c5d-a2a5-8aac60ea8eea",
   "metadata": {},
   "outputs": [
    {
     "name": "stdin",
     "output_type": "stream",
     "text": [
      "Bir sayı girin:  66\n"
     ]
    },
    {
     "name": "stdout",
     "output_type": "stream",
     "text": [
      "66 Armstrong sayısı değildir \n"
     ]
    }
   ],
   "source": [
    "def armstrong_mu(n):\n",
    "    toplam = sum(int(h)**3 for h in str(n))\n",
    "    return toplam == n\n",
    "\n",
    "sayi = int(input(\"Bir sayı girin: \"))\n",
    "if armstrong_mu(sayi):\n",
    "    print(sayi, \"Armstrong sayısıdır \")\n",
    "else:\n",
    "    print(sayi, \"Armstrong sayısı değildir \")\n",
    "\n"
   ]
  },
  {
   "cell_type": "code",
   "execution_count": 4,
   "id": "71bfb48c-497d-4b49-a78b-4db805c47851",
   "metadata": {},
   "outputs": [
    {
     "name": "stdout",
     "output_type": "stream",
     "text": [
      "Ortak diller: {'SQL', 'Python'}\n",
      "Sadece A'da: {'R', 'Java'}\n",
      "Birleşim (alfabetik): ['C++', 'Java', 'JavaScript', 'Python', 'R', 'SQL']\n"
     ]
    }
   ],
   "source": [
    "A = {\"Python\", \"R\", \"SQL\", \"Java\"}\n",
    "B = {\"C++\", \"Python\", \"JavaScript\", \"SQL\"}\n",
    "\n",
    "ortak = A & B\n",
    "sadece_A = A - B\n",
    "birlesim_alfabetik = sorted(A | B)\n",
    "\n",
    "print(\"Ortak diller:\", ortak)\n",
    "print(\"Sadece A'da:\", sadece_A)\n",
    "print(\"Birleşim (alfabetik):\", birlesim_alfabetik)"
   ]
  },
  {
   "cell_type": "code",
   "execution_count": 5,
   "id": "4100fe09-4d89-4097-bfb6-31fee9256d42",
   "metadata": {},
   "outputs": [
    {
     "name": "stdout",
     "output_type": "stream",
     "text": [
      "Rastgele sayılar: [82, 15, 4, 95, 36, 32, 29, 18, 95, 14]\n",
      "Ortalama: 42\n",
      "Standart sapma: 33.250563904992646\n"
     ]
    }
   ],
   "source": [
    "import random, statistics\n",
    "\n",
    "random.seed(42)\n",
    "sayilar = [random.randint(1, 100) for _ in range(10)]\n",
    "ortalama = statistics.mean(sayilar)\n",
    "st_sapma = statistics.pstdev(sayilar)\n",
    "\n",
    "print(\"Rastgele sayılar:\", sayilar)\n",
    "print(\"Ortalama:\", ortalama)\n",
    "print(\"Standart sapma:\", st_sapma)"
   ]
  },
  {
   "cell_type": "code",
   "execution_count": 6,
   "id": "22128413-c367-4bcd-b52a-fe64ddcebaee",
   "metadata": {},
   "outputs": [
    {
     "name": "stdin",
     "output_type": "stream",
     "text": [
      "Metin girin:  bugun sabah cok erken uyandım. veri bilimi dersime girmeden once güzel bir kahvaktıya yaptım. dersim oldukça verimli geçti. dersten sonra kendimi dizi izlerken buldum. 3. bölümüne geldiğimde telefonuma bir arama düştü. arayan kuzenim sevdaydı. bana bir iş fırsatı buldugunu pazartesi günü görüşmeye gitmemi soyledi. umarım benim için hayırlı olan beni bulur sevgilerimle\n"
     ]
    },
    {
     "name": "stdout",
     "output_type": "stream",
     "text": [
      "(52, 'sevgilerimle', 'bir')\n"
     ]
    }
   ],
   "source": [
    "from collections import Counter\n",
    "import re\n",
    "\n",
    "def kelime_sayaci(metin):\n",
    "     kelimeler = re.findall(r\"[\\wçğıöşüÇĞİÖŞÜ]+\", metin.lower())\n",
    "     if not kelimeler:\n",
    "         return (0, None, None)\n",
    "     toplam = len(kelimeler)\n",
    "     en_uzun = max(kelimeler, key=len)\n",
    "     en_sik = Counter(kelimeler).most_common(1)[0][0]\n",
    "     return toplam, en_uzun, en_sik\n",
    "\n",
    "metin = input(\"Metin girin: \")\n",
    "print(kelime_sayaci(metin))\n",
    "\n",
    "\n"
   ]
  },
  {
   "cell_type": "code",
   "execution_count": 7,
   "id": "84b1dc5d-0b06-4951-8ffe-4e11edfd2710",
   "metadata": {},
   "outputs": [
    {
     "name": "stdout",
     "output_type": "stream",
     "text": [
      "Çift sayılar: [12, 18, 24, 16]\n",
      "Kareleri: [144, 324, 576, 256]\n",
      "Azalan: [576, 324, 256, 144]\n"
     ]
    }
   ],
   "source": [
    "sayilar = [5, 12, 7, 18, 24, 3, 16]\n",
    "\n",
    "ciftler = list(filter(lambda x: x % 2 == 0, sayilar))\n",
    "kareler = list(map(lambda x: x*x, ciftler))\n",
    "azalan = sorted(kareler, reverse=True)\n",
    "\n",
    "print(\"Çift sayılar:\", ciftler)\n",
    "print(\"Kareleri:\", kareler)\n",
    "print(\"Azalan:\", azalan)"
   ]
  },
  {
   "cell_type": "code",
   "execution_count": 8,
   "id": "26c08df6-339f-475a-9833-b088f7a54912",
   "metadata": {},
   "outputs": [
    {
     "name": "stdout",
     "output_type": "stream",
     "text": [
      "['veri', 'bilim', 'analiz', 'python', 'yapayzeka']\n"
     ]
    }
   ],
   "source": [
    "kelimeler = [\"veri\", \"bilim\", \"analiz\", \"yapayzeka\", \"python\"]\n",
    "sirali = sorted(kelimeler, key=lambda k: len(k))\n",
    "print(sirali)"
   ]
  },
  {
   "cell_type": "code",
   "execution_count": 11,
   "id": "93331f21-7f3b-44bd-a340-b5f8b8a4c4ac",
   "metadata": {},
   "outputs": [
    {
     "name": "stdin",
     "output_type": "stream",
     "text": [
      "Bir string girin:  Bugün 2 kere 15 dk yürüdüm ve 3 kere 10 dk koştum\n"
     ]
    },
    {
     "name": "stdout",
     "output_type": "stream",
     "text": [
      "Rakamların toplamı: 30\n"
     ]
    }
   ],
   "source": [
    "import re\n",
    "\n",
    "def rakamlari_topla(s):\n",
    "    sayilar = re.findall(r\"\\d+\", s)\n",
    "    return sum(map(int, sayilar)) if sayilar else 0\n",
    "\n",
    "s = input(\"Bir string girin: \")\n",
    "print(\"Rakamların toplamı:\", rakamlari_topla(s))\n"
   ]
  },
  {
   "cell_type": "code",
   "execution_count": 12,
   "id": "16e63562-4961-4d08-bc88-21c5760b144d",
   "metadata": {},
   "outputs": [
    {
     "name": "stdout",
     "output_type": "stream",
     "text": [
      "Dizi: [47, 4, 25, 3, 19, 23, 39, 28, 14, 23]\n",
      "Ortalama: 22.5\n",
      "Std sapma: 13.10152662860325\n",
      "En büyük: 47\n"
     ]
    }
   ],
   "source": [
    "import numpy as np\n",
    "np.random.seed(7)\n",
    "\n",
    "dizi = np.random.randint(0, 51, size=10)\n",
    "print(\"Dizi:\", dizi.tolist())\n",
    "print(\"Ortalama:\", float(np.mean(dizi)))\n",
    "print(\"Std sapma:\", float(np.std(dizi)))\n",
    "print(\"En büyük:\", int(np.max(dizi)))"
   ]
  },
  {
   "cell_type": "code",
   "execution_count": 13,
   "id": "5c20db0f-4730-4f41-be32-510ab962040c",
   "metadata": {},
   "outputs": [
    {
     "name": "stdout",
     "output_type": "stream",
     "text": [
      "Matris:\n",
      " [[0.04872488 0.28910966 0.72096635 0.02161625 0.20592277]\n",
      " [0.05077326 0.30227189 0.66391029 0.30811439 0.58359128]\n",
      " [0.06957095 0.86740448 0.13324052 0.17812466 0.49592955]\n",
      " [0.86369964 0.75894384 0.97048513 0.75930255 0.38425003]\n",
      " [0.40871833 0.71336043 0.27066977 0.85410287 0.91316397]]\n",
      "Sütun ortalamaları: [0.28829741 0.58621806 0.55185441 0.42425215 0.51657152]\n",
      "Binary matris:\n",
      " [[0 0 1 0 0]\n",
      " [0 0 1 0 1]\n",
      " [0 1 0 0 0]\n",
      " [1 1 1 1 0]\n",
      " [0 1 0 1 1]]\n"
     ]
    }
   ],
   "source": [
    "np.random.seed(21)\n",
    "matris = np.random.rand(5,5)\n",
    "\n",
    "sutun_ort = matris.mean(axis=0)\n",
    "binary = (matris > 0.5).astype(int)\n",
    "\n",
    "print(\"Matris:\\n\", matris)\n",
    "print(\"Sütun ortalamaları:\", sutun_ort)\n",
    "print(\"Binary matris:\\n\", binary)"
   ]
  },
  {
   "cell_type": "code",
   "execution_count": 14,
   "id": "c8be5b97-37ed-47ed-a34a-12969cac0c82",
   "metadata": {},
   "outputs": [
    {
     "name": "stdout",
     "output_type": "stream",
     "text": [
      "En çok satan kitap: Makine Öğrenmesi\n",
      "Yazar satışları: {'Ali': 3400, 'Ayşe': 1550, 'Can': 1800, 'Deniz': 400}\n",
      "Türler: {'Sanat', 'Akademik', 'Bilim', 'Sosyal'}\n",
      "1000’den fazla satan kitaplar: ['Veri Bilimi 101', 'Makine Öğrenmesi', 'Matematiksel Modelleme']\n",
      "Ortalama satış: 1021.4\n",
      "Standart sapma: 468.9\n",
      "En çok satış yapan tür: Bilim\n",
      "Train seti: ['Veri Bilimi 101', 'İstatistik Temelleri', 'Bilgi Toplumu', 'Makine Öğrenmesi', 'Python ile Yapay Zeka']\n",
      "Test seti: ['Veri Görselleştirme', 'Matematiksel Modelleme']\n",
      "Yazar ortalamaları (train): {'Ali': 950, 'Ayşe': 775, 'Can': 1800}\n",
      "Test sonuçları:\n",
      " - Veri Görselleştirme (Deniz): satış=400, ortalama=1021.4, üzerinde_mi=False\n",
      " - Matematiksel Modelleme (Ali): satış=1500, ortalama=950, üzerinde_mi=True\n"
     ]
    }
   ],
   "source": [
    "from statistics import mean, pstdev\n",
    "from collections import defaultdict, Counter\n",
    "import random\n",
    "\n",
    "kitaplar = [\n",
    " {\"isim\": \"Veri Bilimi 101\", \"yazar\": \"Ali\", \"tur\": \"Bilim\", \"satis\": 1200, \"yil\": 2021},\n",
    " {\"isim\": \"Python ile Yapay Zeka\", \"yazar\": \"Ayşe\", \"tur\": \"Bilim\", \"satis\": 950, \"yil\": 2020},\n",
    " {\"isim\": \"İstatistik Temelleri\", \"yazar\": \"Ali\", \"tur\": \"Akademik\", \"satis\": 700, \"yil\": 2019},\n",
    " {\"isim\": \"Makine Öğrenmesi\", \"yazar\": \"Can\", \"tur\": \"Bilim\", \"satis\": 1800, \"yil\": 2022},\n",
    " {\"isim\": \"Veri Görselleştirme\", \"yazar\": \"Deniz\", \"tur\": \"Sanat\", \"satis\": 400, \"yil\": 2018},\n",
    " {\"isim\": \"Matematiksel Modelleme\", \"yazar\": \"Ali\", \"tur\": \"Akademik\", \"satis\": 1500, \"yil\": 2021},\n",
    " {\"isim\": \"Bilgi Toplumu\", \"yazar\": \"Ayşe\", \"tur\": \"Sosyal\", \"satis\": 600, \"yil\": 2022}\n",
    "]\n",
    "\n",
    "def en_cok_satan(kitaplar):\n",
    "    return max(kitaplar, key=lambda k: k[\"satis\"])\n",
    "\n",
    "def yazar_satislari(kitaplar):\n",
    "    sonuc = defaultdict(int)\n",
    "    for k in kitaplar:\n",
    "         sonuc[k[\"yazar\"]] += k[\"satis\"]\n",
    "    return dict(sonuc)\n",
    "\n",
    "\n",
    "turler = {k[\"tur\"] for k in kitaplar}\n",
    "bin_ustu_isimler = [k[\"isim\"] for k in kitaplar if k[\"satis\"] > 1000]\n",
    "\n",
    "\n",
    "sonrasi_2020 = list(filter(lambda k: k[\"yil\"] > 2020, kitaplar))\n",
    "satis_artis_10 = list(map(lambda k: {**k, \"satis\": int(round(k[\"satis\"]*1.10))}, kitaplar))\n",
    "azalan_satis = sorted(kitaplar, key=lambda k: k[\"satis\"], reverse=True)\n",
    "\n",
    "\n",
    "ortalama_satis = mean([k[\"satis\"] for k in kitaplar])\n",
    "tur_sayac = Counter()\n",
    "for k in kitaplar:\n",
    "    tur_sayac[k[\"tur\"]] += k[\"satis\"]\n",
    "en_cok_satan_tur = tur_sayac.most_common(1)[0][0]\n",
    "std_sapma = pstdev([k[\"satis\"] for k in kitaplar])\n",
    "\n",
    "random.seed(123)\n",
    "train_size = int(round(len(kitaplar)*0.7))\n",
    "train = random.sample(kitaplar, k=train_size)\n",
    "test = [k for k in kitaplar if k not in train]\n",
    "\n",
    "yazar_satis_list = defaultdict(list)\n",
    "for k in train:\n",
    "    yazar_satis_list[k[\"yazar\"]].append(k[\"satis\"])\n",
    "yazar_ort = {y: mean(sat) for y, sat in yazar_satis_list.items()}\n",
    "\n",
    "test_sonuclari = []\n",
    "for k in test:\n",
    "    ort = yazar_ort.get(k[\"yazar\"], ortalama_satis)\n",
    "    test_sonuclari.append({\n",
    "        \"isim\": k[\"isim\"],\n",
    "        \"yazar\": k[\"yazar\"],\n",
    "        \"satis\": k[\"satis\"],\n",
    "        \"karsilastirma_ort\": ort,\n",
    "        \"uzerinde_mi\": k[\"satis\"] > ort\n",
    "    })\n",
    "\n",
    "print(\"En çok satan kitap:\", en_cok_satan(kitaplar)[\"isim\"])\n",
    "print(\"Yazar satışları:\", yazar_satislari(kitaplar))\n",
    "print(\"Türler:\", turler)\n",
    "print(\"1000’den fazla satan kitaplar:\", bin_ustu_isimler)\n",
    "print(\"Ortalama satış:\", round(ortalama_satis,1))\n",
    "print(\"Standart sapma:\", round(std_sapma,1))\n",
    "print(\"En çok satış yapan tür:\", en_cok_satan_tur)\n",
    "print(\"Train seti:\", [k[\"isim\"] for k in train])\n",
    "print(\"Test seti:\", [k[\"isim\"] for k in test])\n",
    "print(\"Yazar ortalamaları (train):\", {y: round(v,1) for y,v in yazar_ort.items()})\n",
    "print(\"Test sonuçları:\")\n",
    "for r in test_sonuclari:\n",
    "    print(f\" - {r['isim']} ({r['yazar']}): satış={r['satis']}, ortalama={round(r['karsilastirma_ort'],1)}, üzerinde_mi={r['uzerinde_mi']}\")\n",
    "    "
   ]
  },
  {
   "cell_type": "code",
   "execution_count": null,
   "id": "f222e99e-3683-4f90-bd79-6ee2b72c078c",
   "metadata": {},
   "outputs": [],
   "source": []
  }
 ],
 "metadata": {
  "kernelspec": {
   "display_name": "Python 3 (ipykernel)",
   "language": "python",
   "name": "python3"
  },
  "language_info": {
   "codemirror_mode": {
    "name": "ipython",
    "version": 3
   },
   "file_extension": ".py",
   "mimetype": "text/x-python",
   "name": "python",
   "nbconvert_exporter": "python",
   "pygments_lexer": "ipython3",
   "version": "3.13.5"
  }
 },
 "nbformat": 4,
 "nbformat_minor": 5
}
