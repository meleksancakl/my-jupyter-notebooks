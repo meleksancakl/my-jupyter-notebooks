{
 "cells": [
  {
   "cell_type": "code",
   "execution_count": 2,
   "id": "648cad05-46e6-485b-bd19-0d77c2b61b11",
   "metadata": {},
   "outputs": [
    {
     "name": "stdout",
     "output_type": "stream",
     "text": [
      "=== 1.1 Matris İşlemleri ===\n",
      "Matris:\n",
      " [[97 42 74 52 81]\n",
      " [10 49 83 52 59]\n",
      " [59 31  0 95 87]\n",
      " [57 19 90 84 74]\n",
      " [90 87 89 63 78]]\n",
      "Ortalama: 64.08\n",
      "Standart Sapma: 26.64870728572026\n",
      "Varyans: 710.1536\n",
      "En Büyük: 97\n",
      "En Küçük: 0\n",
      "Köşegen Toplamı: 308\n"
     ]
    }
   ],
   "source": [
    "import numpy as np\n",
    "import pandas as pd\n",
    "import matplotlib.pyplot as plt\n",
    "import seaborn as sns\n",
    "\n",
    "print(\"=== 1.1 Matris İşlemleri ===\")\n",
    "matris = np.random.randint(0, 101, size=(5, 5))\n",
    "print(\"Matris:\\n\", matris)\n",
    "\n",
    "print(\"Ortalama:\", matris.mean())\n",
    "print(\"Standart Sapma:\", matris.std())\n",
    "print(\"Varyans:\", matris.var())\n",
    "print(\"En Büyük:\", matris.max())\n",
    "print(\"En Küçük:\", matris.min())\n",
    "print(\"Köşegen Toplamı:\", np.trace(matris))"
   ]
  },
  {
   "cell_type": "code",
   "execution_count": 3,
   "id": "bd071bdb-1b12-406b-9e65-261f69081591",
   "metadata": {},
   "outputs": [
    {
     "name": "stdout",
     "output_type": "stream",
     "text": [
      "\n",
      "=== 1.2 Veri Simülasyonu ===\n",
      "Ortalama: 70.37010032976751\n",
      "Medyan: 70.67807387937418\n",
      "Standart Sapma: 14.820916139154114\n",
      "50'den düşük alan öğrenci sayısı: 85\n"
     ]
    }
   ],
   "source": [
    "print(\"\\n=== 1.2 Veri Simülasyonu ===\")\n",
    "puanlar = np.random.normal(loc=70, scale=15, size=1000)\n",
    "puanlar = np.clip(puanlar, 0, 100)\n",
    "print(\"Ortalama:\", puanlar.mean())\n",
    "print(\"Medyan:\", np.median(puanlar))\n",
    "print(\"Standart Sapma:\", puanlar.std())\n",
    "print(\"50'den düşük alan öğrenci sayısı:\", np.sum(puanlar < 50))"
   ]
  },
  {
   "cell_type": "code",
   "execution_count": 5,
   "id": "7b3b5ca3-b77a-4f76-ba38-270935318454",
   "metadata": {},
   "outputs": [
    {
     "name": "stdout",
     "output_type": "stream",
     "text": [
      "\n",
      "=== 2. Pandas Bölümü ===\n",
      "   Öğrenci  Yaş       Bölüm  Matematik  Fizik  Kimya\n",
      "0   ruchan   20  Bilgisayar         70     65     80\n",
      "1    melek   21       Fizik         60     75     85\n",
      "2   ilayda   19       Kimya         80     70     65\n",
      "3  oguzhan   22  Bilgisayar         90     85     95\n",
      "4     ozan   20       Fizik         55     60     70\n"
     ]
    }
   ],
   "source": [
    "print(\"\\n=== 2. Pandas Bölümü ===\")\n",
    "data = {\n",
    "    \"Öğrenci\": [\"ruchan\", \"melek\", \"ilayda\", \"oguzhan\", \"ozan\"],\n",
    "    \"Yaş\": [20, 21, 19, 22, 20],\n",
    "    \"Bölüm\": [\"Bilgisayar\", \"Fizik\", \"Kimya\", \"Bilgisayar\", \"Fizik\"],\n",
    "    \"Matematik\": [70, 60, 80, 90, 55],\n",
    "    \"Fizik\": [65, 75, 70, 85, 60],\n",
    "    \"Kimya\": [80, 85, 65, 95, 70],\n",
    "}\n",
    "\n",
    "df = pd.DataFrame(data)\n",
    "print(df)"
   ]
  },
  {
   "cell_type": "code",
   "execution_count": 6,
   "id": "65ab104e-b87e-4089-b1df-c480258fb4e6",
   "metadata": {},
   "outputs": [
    {
     "name": "stdout",
     "output_type": "stream",
     "text": [
      "\n",
      "Ders Ortalamaları:\n",
      " Matematik    71.0\n",
      "Fizik        71.0\n",
      "Kimya        79.0\n",
      "dtype: float64\n"
     ]
    }
   ],
   "source": [
    "print(\"\\nDers Ortalamaları:\\n\", df[[\"Matematik\", \"Fizik\", \"Kimya\"]].mean())"
   ]
  },
  {
   "cell_type": "code",
   "execution_count": 7,
   "id": "38d248b9-22e0-40fc-ab20-144e7ca505ba",
   "metadata": {},
   "outputs": [
    {
     "name": "stdout",
     "output_type": "stream",
     "text": [
      "\n",
      "En yüksek matematik notunu alan öğrenci:\n",
      " Öğrenci         oguzhan\n",
      "Yaş                  22\n",
      "Bölüm        Bilgisayar\n",
      "Matematik            90\n",
      "Fizik                85\n",
      "Kimya                95\n",
      "Name: 3, dtype: object\n"
     ]
    }
   ],
   "source": [
    "en_yuksek = df.loc[df[\"Matematik\"].idxmax()]\n",
    "print(\"\\nEn yüksek matematik notunu alan öğrenci:\\n\", en_yuksek)\n"
   ]
  },
  {
   "cell_type": "code",
   "execution_count": 8,
   "id": "ff37c545-eddd-46d5-a65b-cd026de62673",
   "metadata": {},
   "outputs": [
    {
     "name": "stdout",
     "output_type": "stream",
     "text": [
      "\n",
      "Ortalama sütunu eklendi:\n",
      "    Öğrenci  Yaş       Bölüm  Matematik  Fizik  Kimya   Ortalama\n",
      "0   ruchan   20  Bilgisayar         70     65     80  71.666667\n",
      "1    melek   21       Fizik         60     75     85  73.333333\n",
      "2   ilayda   19       Kimya         80     70     65  71.666667\n",
      "3  oguzhan   22  Bilgisayar         90     85     95  90.000000\n",
      "4     ozan   20       Fizik         55     60     70  61.666667\n"
     ]
    }
   ],
   "source": [
    "df[\"Ortalama\"] = df[[\"Matematik\", \"Fizik\", \"Kimya\"]].mean(axis=1)\n",
    "print(\"\\nOrtalama sütunu eklendi:\\n\", df)\n"
   ]
  },
  {
   "cell_type": "code",
   "execution_count": 9,
   "id": "30bcb432-4f47-4787-8ae5-cf186ea329b3",
   "metadata": {},
   "outputs": [
    {
     "name": "stdout",
     "output_type": "stream",
     "text": [
      "\n",
      "Bölüm Ortalamaları:\n",
      "             Matematik  Fizik  Kimya   Ortalama\n",
      "Bölüm                                         \n",
      "Bilgisayar       80.0   75.0   87.5  80.833333\n",
      "Fizik            57.5   67.5   77.5  67.500000\n",
      "Kimya            80.0   70.0   65.0  71.666667\n"
     ]
    }
   ],
   "source": [
    "print(\"\\nBölüm Ortalamaları:\\n\", df.groupby(\"Bölüm\")[[\"Matematik\", \"Fizik\", \"Kimya\", \"Ortalama\"]].mean())"
   ]
  },
  {
   "cell_type": "code",
   "execution_count": 10,
   "id": "6271bc96-04fa-4c5f-9bf4-45b7af6623cb",
   "metadata": {},
   "outputs": [
    {
     "name": "stdout",
     "output_type": "stream",
     "text": [
      "\n",
      "Ortalaması 70 üzeri olan öğrenciler:\n",
      "    Öğrenci  Yaş       Bölüm  Matematik  Fizik  Kimya   Ortalama\n",
      "0   ruchan   20  Bilgisayar         70     65     80  71.666667\n",
      "1    melek   21       Fizik         60     75     85  73.333333\n",
      "2   ilayda   19       Kimya         80     70     65  71.666667\n",
      "3  oguzhan   22  Bilgisayar         90     85     95  90.000000\n"
     ]
    }
   ],
   "source": [
    "print(\"\\nOrtalaması 70 üzeri olan öğrenciler:\\n\", df[df[\"Ortalama\"] > 70])"
   ]
  },
  {
   "cell_type": "code",
   "execution_count": 11,
   "id": "5c0ab7cf-74cd-48ee-9965-860b5d74a218",
   "metadata": {},
   "outputs": [
    {
     "name": "stdout",
     "output_type": "stream",
     "text": [
      "\n",
      "=== 3. Ek Görev: Görselleştirme ===\n"
     ]
    }
   ],
   "source": [
    "print(\"\\n=== 3. Ek Görev: Görselleştirme ===\")"
   ]
  },
  {
   "cell_type": "code",
   "execution_count": 12,
   "id": "8875ed8f-cd40-409c-adb3-1b0a6b6fe2c4",
   "metadata": {},
   "outputs": [
    {
     "data": {
      "image/png": "[encoded data removed]",
      "text/plain": [
       "<Figure size 1000x500 with 4 Axes>"
      ]
     },
     "metadata": {},
     "output_type": "display_data"
    }
   ],
   "source": [
    "df[[\"Matematik\", \"Fizik\", \"Kimya\"]].hist(bins=10, figsize=(10,5))\n",
    "plt.suptitle(\"Ders Dağılımları\")\n",
    "plt.show()"
   ]
  },
  {
   "cell_type": "code",
   "execution_count": 15,
   "id": "a77b1db0-c541-450e-8f9d-f17b7bc73e95",
   "metadata": {},
   "outputs": [
    {
     "data": {
      "image/png": "[encoded data removed]",
      "text/plain": [
       "<Figure size 600x400 with 1 Axes>"
      ]
     },
     "metadata": {},
     "output_type": "display_data"
    }
   ],
   "source": [
    "bolum_ort = df.groupby(\"Bölüm\")[[\"Ortalama\"]].mean()\n",
    "\n",
    "plt.figure(figsize=(6,4))\n",
    "sns.barplot(x=bolum_ort.index, y=bolum_ort[\"Ortalama\"])\n",
    "plt.title(\"Bölümlere Göre Ortalama Başarı\")\n",
    "plt.ylabel(\"Ortalama\")\n",
    "plt.show()\n"
   ]
  },
  {
   "cell_type": "code",
   "execution_count": null,
   "id": "236e027e-37f0-4365-bbc9-30265f2cfddf",
   "metadata": {},
   "outputs": [],
   "source": []
  }
 ],
 "metadata": {
  "kernelspec": {
   "display_name": "Python 3 (ipykernel)",
   "language": "python",
   "name": "python3"
  },
  "language_info": {
   "codemirror_mode": {
    "name": "ipython",
    "version": 3
   },
   "file_extension": ".py",
   "mimetype": "text/x-python",
   "name": "python",
   "nbconvert_exporter": "python",
   "pygments_lexer": "ipython3",
   "version": "3.13.5"
  }
 },
 "nbformat": 4,
 "nbformat_minor": 5
}
