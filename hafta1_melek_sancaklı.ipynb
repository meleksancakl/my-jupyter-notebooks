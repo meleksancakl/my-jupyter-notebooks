{
 "cells": [
  {
   "cell_type": "code",
   "execution_count": 12,
   "id": "57f64165-7391-464f-8dfb-4cf2b34c93ab",
   "metadata": {},
   "outputs": [
    {
     "name": "stdin",
     "output_type": "stream",
     "text": [
      "Adınızı giriniz:  melek\n",
      " Yasınızı giriniz:  24\n",
      " Boyunuzu giriniz:  1.76\n"
     ]
    },
    {
     "name": "stdout",
     "output_type": "stream",
     "text": [
      "Adınız: melek yasınız: 24 boyunuz: 1.76 metre\n"
     ]
    }
   ],
   "source": [
    "ad= input(\"Adınızı giriniz: \")\n",
    "yas= int(input(\" Yasınızı giriniz: \"))\n",
    "boy= float(input(\" Boyunuzu giriniz: \"))\n",
    "print (\"Adınız:\", ad, \"yasınız:\", yas, \"boyunuz:\" ,boy ,\"metre\" )"
   ]
  },
  {
   "cell_type": "code",
   "execution_count": 16,
   "id": "390e4efc-d6f1-4ca9-acc5-eca04bbc8a98",
   "metadata": {},
   "outputs": [
    {
     "name": "stdin",
     "output_type": "stream",
     "text": [
      "Matematik notunu giriniz:  56\n",
      "fizik notunu giriniz:  46\n",
      "kimya notunu giriniz:  36\n"
     ]
    },
    {
     "name": "stdout",
     "output_type": "stream",
     "text": [
      "ortalamanız: 46.0\n"
     ]
    }
   ],
   "source": [
    "matematik= int(input(\"Matematik notunu giriniz: \"))\n",
    "fizik= int(input(\"fizik notunu giriniz: \"))\n",
    "kimya= int(input(\"kimya notunu giriniz: \"))\n",
    "ortalama= (matematik + fizik + kimya) / 3\n",
    "print (\"ortalamanız:\" , float(ortalama))"
   ]
  },
  {
   "cell_type": "code",
   "execution_count": 17,
   "id": "c4a7eb0e-4b94-427c-aab9-7f2b594182fa",
   "metadata": {},
   "outputs": [
    {
     "name": "stdin",
     "output_type": "stream",
     "text": [
      " birinci sayınızı giriniz:  54\n",
      " ikinci sayınızı giriniz:  6\n"
     ]
    },
    {
     "name": "stdout",
     "output_type": "stream",
     "text": [
      "toplama: 60\n",
      "çıkarma: 48\n",
      "çarpma: 324\n",
      "bölme: 9.0\n"
     ]
    }
   ],
   "source": [
    "sayi1 = int(input(\" birinci sayınızı giriniz: \"))\n",
    "sayi2 = int(input(\" ikinci sayınızı giriniz: \" ))\n",
    "print(\"toplama:\" , sayi1 + sayi2)\n",
    "print(\"çıkarma:\" , sayi1 - sayi2)\n",
    "print( \"çarpma:\" , sayi1 * sayi2)\n",
    "print( \"bölme:\" , sayi1 / sayi2)"
   ]
  },
  {
   "cell_type": "code",
   "execution_count": 20,
   "id": "d101a4a0-75c9-41ba-af69-12a2e47ab9eb",
   "metadata": {},
   "outputs": [
    {
     "name": "stdin",
     "output_type": "stream",
     "text": [
      "ortalamanızı giriniz:  46\n"
     ]
    },
    {
     "name": "stdout",
     "output_type": "stream",
     "text": [
      "kaldı\n"
     ]
    }
   ],
   "source": [
    "ortalama = float(input(\"ortalamanızı giriniz: \" ))\n",
    "if ortalama > 50: \n",
    "    print (\"geçti\")\n",
    "\n",
    "else:\n",
    "    print(\"kaldı\")\n"
   ]
  },
  {
   "cell_type": "code",
   "execution_count": 23,
   "id": "a74620e7-907a-4cba-9e75-04a624c85e22",
   "metadata": {},
   "outputs": [
    {
     "name": "stdin",
     "output_type": "stream",
     "text": [
      "yasınızı giribiz:  25\n"
     ]
    },
    {
     "name": "stdout",
     "output_type": "stream",
     "text": [
      " ehliyet alabilirsiniz\n"
     ]
    }
   ],
   "source": [
    "yas= int(input(\"yasınızı giribiz: \"))\n",
    "if yas >18:\n",
    "    print(\" ehliyet alabilirsiniz\")\n",
    "\n",
    "else:\n",
    "    print(\" ehliyet alamazsınız\" )"
   ]
  },
  {
   "cell_type": "code",
   "execution_count": 24,
   "id": "f20c2c1f-d2d2-4242-bf4e-227aa0c83084",
   "metadata": {},
   "outputs": [
    {
     "name": "stdin",
     "output_type": "stream",
     "text": [
      " ürün fiyatını giriniz:  5600\n",
      " indirim oranını giriniz (%)  20\n"
     ]
    },
    {
     "name": "stdout",
     "output_type": "stream",
     "text": [
      "indirimli fiyat: 4480.0\n"
     ]
    }
   ],
   "source": [
    "fiyat= float(input( \" ürün fiyatını giriniz: \"))\n",
    "indirim= float(input(\" indirim oranını giriniz (%) \"))\n",
    "indirimli_fiyat = fiyat - (fiyat* indirim / 100)\n",
    "print (\"indirimli fiyat:\" , indirimli_fiyat)"
   ]
  },
  {
   "cell_type": "code",
   "execution_count": 26,
   "id": "c1ee8895-56cf-43ba-ba87-776ef107cd5a",
   "metadata": {},
   "outputs": [
    {
     "name": "stdin",
     "output_type": "stream",
     "text": [
      "1. urunun fiyatını giriniz:  80\n",
      "2. urunun fiyatını giriniz:  60\n",
      "3. urunun fiyatını giriniz:  90\n"
     ]
    },
    {
     "name": "stdout",
     "output_type": "stream",
     "text": [
      "odenecek toplam tutar: 207.0\n"
     ]
    }
   ],
   "source": [
    "urun1= float(input(\"1. urunun fiyatını giriniz: \"))\n",
    "urun2= float(input(\"2. urunun fiyatını giriniz: \"))\n",
    "urun3= float(input(\"3. urunun fiyatını giriniz: \"))\n",
    "\n",
    "toplam= urun1 + urun2 + urun3\n",
    "\n",
    "if toplam > 200:\n",
    "   toplam= toplam - (toplam * 0.10)\n",
    "\n",
    "print(\"odenecek toplam tutar:\" , toplam)"
   ]
  },
  {
   "cell_type": "code",
   "execution_count": 27,
   "id": "dfa8db43-0d40-46d4-b5b8-11470bfa2402",
   "metadata": {},
   "outputs": [
    {
     "name": "stdin",
     "output_type": "stream",
     "text": [
      "dogum yılınızı giriniz:  2001\n"
     ]
    },
    {
     "name": "stdout",
     "output_type": "stream",
     "text": [
      "yetiskinsiniz\n"
     ]
    }
   ],
   "source": [
    "dogum_yili= int(input(\"dogum yılınızı giriniz: \"))\n",
    "guncel_yil= 2025 \n",
    "yas = guncel_yil - dogum_yili\n",
    "if yas >= 0 and yas <= 12:\n",
    "    print(\"çocuksunuz\")\n",
    "\n",
    "elif yas >= 13 and yas <=17:\n",
    "    print(\"ergensiniz\")\n",
    "\n",
    "elif yas >=18:\n",
    "    print(\"yetiskinsiniz\")\n",
    "\n",
    "else:\n",
    "    print(\"Geçersiz giriş\")"
   ]
  },
  {
   "cell_type": "code",
   "execution_count": null,
   "id": "af54b07d-139f-43e3-be0a-6546d28036ae",
   "metadata": {},
   "outputs": [],
   "source": []
  }
 ],
 "metadata": {
  "kernelspec": {
   "display_name": "Python 3 (ipykernel)",
   "language": "python",
   "name": "python3"
  },
  "language_info": {
   "codemirror_mode": {
    "name": "ipython",
    "version": 3
   },
   "file_extension": ".py",
   "mimetype": "text/x-python",
   "name": "python",
   "nbconvert_exporter": "python",
   "pygments_lexer": "ipython3",
   "version": "3.13.5"
  }
 },
 "nbformat": 4,
 "nbformat_minor": 5
}
