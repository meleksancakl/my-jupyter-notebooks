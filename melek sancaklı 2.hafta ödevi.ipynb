{
 "cells": [
  {
   "cell_type": "code",
   "execution_count": 8,
   "id": "3371233c-550b-4dd8-a71c-dd064fce93fb",
   "metadata": {},
   "outputs": [
    {
     "name": "stdin",
     "output_type": "stream",
     "text": [
      "Bir sayı girin: 52\n"
     ]
    },
    {
     "name": "stdout",
     "output_type": "stream",
     "text": [
      "Pozitif Çift\n"
     ]
    }
   ],
   "source": [
    "sayi = int(input(\"Bir sayı girin:\"))\n",
    "if sayi > 0:\n",
    "    durum = \"Pozitif\"\n",
    "elif sayi < 0:    \n",
    "     durum = \"Negatif\"\n",
    "else:\n",
    "    durum = \"Sıfır\"\n",
    "if sayi % 2 == 0:\n",
    "     tek_cift = \"Çift\"\n",
    "else:\n",
    "    tek_cift = \"Tek\"\n",
    "\n",
    "print(durum, tek_cift)   "
   ]
  },
  {
   "cell_type": "code",
   "execution_count": 10,
   "id": "c74ab42f-ae36-44b9-bf30-008612086514",
   "metadata": {},
   "outputs": [
    {
     "name": "stdin",
     "output_type": "stream",
     "text": [
      "Bir kelime girin:  odev yapıyorum\n"
     ]
    },
    {
     "name": "stdout",
     "output_type": "stream",
     "text": [
      "{'o': 2, 'd': 1, 'e': 1, 'v': 1, ' ': 1, 'y': 2, 'a': 1, 'p': 1, 'ı': 1, 'r': 1, 'u': 1, 'm': 1}\n"
     ]
    }
   ],
   "source": [
    "kelime = input(\"Bir kelime girin: \")\n",
    "frekans = {}\n",
    "\n",
    "for harf in kelime:\n",
    "    frekans[harf] = frekans.get(harf, 0) + 1\n",
    "\n",
    "print(frekans)"
   ]
  },
  {
   "cell_type": "code",
   "execution_count": 11,
   "id": "bf554f7d-f839-4bb2-96fe-f0e8b0074585",
   "metadata": {},
   "outputs": [
    {
     "name": "stdin",
     "output_type": "stream",
     "text": [
      "Şifre giriniz:  1986\n"
     ]
    },
    {
     "name": "stdout",
     "output_type": "stream",
     "text": [
      "Şifre geçerli değil\n"
     ]
    }
   ],
   "source": [
    "sifre = input(\"Şifre giriniz: \")\n",
    "if len(sifre) >= 8 and any(h.isupper() for h in sifre) and any(h.isdigit() for h in sifre):\n",
    "   print(\"Şifre geçerli\")\n",
    "else:\n",
    "   print(\"Şifre geçerli değil\")\n",
    " "
   ]
  },
  {
   "cell_type": "code",
   "execution_count": 12,
   "id": "067846c4-b2d4-444b-bc60-923b4766410e",
   "metadata": {},
   "outputs": [
    {
     "name": "stdout",
     "output_type": "stream",
     "text": [
      "Ortalama: 15.0\n",
      "Ortalamadan büyük sayılar: [25, 30, 18]\n"
     ]
    }
   ],
   "source": [
    "liste = [12, 4, 9, 25, 30, 7, 18]\n",
    "ortalama = sum(liste) / len(liste)\n",
    "print(\"Ortalama:\", ortalama)\n",
    "\n",
    "buyukler = [x for x in liste if x > ortalama]\n",
    "print(\"Ortalamadan büyük sayılar:\", buyukler)"
   ]
  },
  {
   "cell_type": "code",
   "execution_count": 13,
   "id": "d168dcb7-f6d1-4ddc-a4b8-dd97e009cc9f",
   "metadata": {},
   "outputs": [
    {
     "name": "stdout",
     "output_type": "stream",
     "text": [
      "*\n",
      "**\n",
      "***\n",
      "****\n",
      "*****\n"
     ]
    }
   ],
   "source": [
    "for i in range(1, 6):\n",
    "    print(\"*\" * i)"
   ]
  },
  {
   "cell_type": "code",
   "execution_count": 10,
   "id": "95873e62-9f49-403b-bf86-1c18d5a62818",
   "metadata": {},
   "outputs": [
    {
     "name": "stdin",
     "output_type": "stream",
     "text": [
      "Bir sayı giriniz (0 çıkış):  5\n",
      "Bir sayı giriniz (0 çıkış):  4\n",
      "Bir sayı giriniz (0 çıkış):  0\n"
     ]
    },
    {
     "name": "stdout",
     "output_type": "stream",
     "text": [
      "Hiç sayı girilmedi.\n"
     ]
    }
   ],
   "source": [
    "toplam = 0\n",
    "adet = 0\n",
    "while True:\n",
    " sayi = int(input(\"Bir sayı giriniz (0 çıkış): \")) \n",
    " if sayi == 0:\n",
    "    break\n",
    "    toplam += sayi\n",
    "    adet += 1\n",
    "\n",
    "if adet > 0:\n",
    "    print(\"Toplam:\", toplam)\n",
    "    print(\"Ortalama:\", toplam / adet) \n",
    "else: \n",
    "    print(\"Hiç sayı girilmedi.\")"
   ]
  },
  {
   "cell_type": "code",
   "execution_count": 11,
   "id": "b4a2ac82-bced-4010-872e-dc53ac184e72",
   "metadata": {},
   "outputs": [
    {
     "name": "stdin",
     "output_type": "stream",
     "text": [
      "Bir kelime giriniz:  melek\n"
     ]
    },
    {
     "name": "stdout",
     "output_type": "stream",
     "text": [
      "Palindrom değil\n"
     ]
    }
   ],
   "source": [
    "kelime = input(\"Bir kelime giriniz: \")\n",
    "\n",
    "if kelime == kelime[::-1]:\n",
    "    print(\"Palindrom\")\n",
    "else:\n",
    "    print(\"Palindrom değil\")"
   ]
  },
  {
   "cell_type": "code",
   "execution_count": 12,
   "id": "533b63d8-50c1-4c6c-86ac-421957564948",
   "metadata": {},
   "outputs": [
    {
     "name": "stdout",
     "output_type": "stream",
     "text": [
      "[225, 900, 2025, 3600, 5625, 8100]\n"
     ]
    }
   ],
   "source": [
    "sonuc = [x**2 for x in range(1, 101) if x % 3 == 0 and x % 5 == 0]\n",
    "print(sonuc)"
   ]
  },
  {
   "cell_type": "code",
   "execution_count": 13,
   "id": "c994d22e-c9d0-4138-9a0f-4d23ffdbeaee",
   "metadata": {},
   "outputs": [
    {
     "name": "stdin",
     "output_type": "stream",
     "text": [
      "Bir cümle giriniz:  kendime yeni bir defter satın aldım.\n"
     ]
    },
    {
     "name": "stdout",
     "output_type": "stream",
     "text": [
      "Kendime Yeni Bir Defter Satın Aldım.\n"
     ]
    }
   ],
   "source": [
    "cumle = input(\"Bir cümle giriniz: \")\n",
    "kelimeler = cumle.split()\n",
    "yeni = \" \".join([k.capitalize() for k in kelimeler])\n",
    "print(yeni)"
   ]
  },
  {
   "cell_type": "code",
   "execution_count": 14,
   "id": "5d9f03fe-b341-4ed9-9eca-17170815f2f3",
   "metadata": {
    "scrolled": true
   },
   "outputs": [
    {
     "name": "stdin",
     "output_type": "stream",
     "text": [
      "Kaç yorum gireceksiniz?  2\n",
      "1. yorumu girin:  oldukca basarılı bir filmdi. izlemekten cok keyif aldım\n",
      "2. yorumu girin:  bugune kadar beni bu kadar etkileyen bir film olmamıstı gercekten cok iyiydi.\n"
     ]
    },
    {
     "name": "stdout",
     "output_type": "stream",
     "text": [
      "Toplam yorum sayısı: 2\n",
      "\"iyi\" geçen yorum sayısı: 1\n",
      "En uzun yorum: bugune kadar beni bu kadar etkileyen bir film olmamıstı gercekten cok iyiydi.\n",
      "En kısa yorum: oldukca basarılı bir filmdi. izlemekten cok keyif aldım\n",
      "Ortalama uzunluk: 66.0 karakter\n"
     ]
    }
   ],
   "source": [
    "yorumlar = []\n",
    "adet = int(input(\"Kaç yorum gireceksiniz? \"))\n",
    "\n",
    "for i in range(adet):\n",
    "    yorum = input(f\"{i+1}. yorumu girin: \")\n",
    "    yorumlar.append(yorum)\n",
    "\n",
    "uzunluklar = [len(y) for y in yorumlar]\n",
    "\n",
    "iyi_sayisi = sum([\"iyi\" in y.lower() for y in yorumlar])\n",
    "\n",
    "en_uzun = max(yorumlar, key=len)\n",
    "en_kisa = min(yorumlar, key=len)\n",
    "\n",
    "ortalama_uz = sum(uzunluklar) / len(uzunluklar)\n",
    "\n",
    "print(\"Toplam yorum sayısı:\", len(yorumlar))\n",
    "print('\"iyi\" geçen yorum sayısı:', iyi_sayisi)\n",
    "print(\"En uzun yorum:\", en_uzun)\n",
    "print(\"En kısa yorum:\", en_kisa)\n",
    "print(\"Ortalama uzunluk:\", round(ortalama_uz, 2), \"karakter\")\n"
   ]
  }
 ],
 "metadata": {
  "kernelspec": {
   "display_name": "Python 3 (ipykernel)",
   "language": "python",
   "name": "python3"
  },
  "language_info": {
   "codemirror_mode": {
    "name": "ipython",
    "version": 3
   },
   "file_extension": ".py",
   "mimetype": "text/x-python",
   "name": "python",
   "nbconvert_exporter": "python",
   "pygments_lexer": "ipython3",
   "version": "3.13.5"
  }
 },
 "nbformat": 4,
 "nbformat_minor": 5
}
